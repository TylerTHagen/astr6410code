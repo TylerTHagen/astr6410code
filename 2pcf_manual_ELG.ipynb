{
 "cells": [
  {
   "cell_type": "code",
   "execution_count": 1,
   "id": "6da3dc94",
   "metadata": {},
   "outputs": [
    {
     "name": "stdout",
     "output_type": "stream",
     "text": [
      "14010\n",
      "Done with DD seps\n",
      "21835\n",
      "Done with DR seps\n",
      "Done with RR seps\n",
      "21794\n",
      "Done with DR seps\n",
      "Done with RR seps\n",
      "21767\n",
      "Done with DR seps\n",
      "Done with RR seps\n",
      "21884\n",
      "Done with DR seps\n",
      "Done with RR seps\n",
      "21753\n",
      "Done with DR seps\n",
      "Done with RR seps\n",
      "Seconds to calculate separations:  63.1807693\n",
      "[40.9513404  11.9675      6.42233914  4.40022301  3.05627666  2.22349976\n",
      "  1.8654921   1.38683989  1.30400607  0.99906168  1.00884825  0.86977182\n",
      "  0.74819036  0.74964088  0.65495505  0.55324682  0.50943436  0.55128108\n",
      "  0.44843438  0.33083983  0.33047335  0.31250288  0.32190881  0.34575254\n",
      "  0.28457556  0.29770717  0.26243294  0.26979044  0.23334568]\n"
     ]
    }
   ],
   "source": [
    "import astropy.io.fits as fits\n",
    "import numpy as np\n",
    "import matplotlib.pyplot as plt\n",
    "import timeit\n",
    "from astropy.cosmology import Planck18 as cosmo\n",
    "\n",
    "def get_xyz(filename):\n",
    "    f = fits.open(filename)\n",
    "    data = f[1].data\n",
    "    header = f[1].header\n",
    "    ra,dec,redshift = data[\"RA\"],data[\"DEC\"],data[\"Z\"]\n",
    "\n",
    "    d = cosmo.comoving_distance(redshift)\n",
    "\n",
    "#     plt.plot(ra,dec,\".\",markersize=1)\n",
    "#     plt.xlabel(r\"RA [$\\degree$]\")\n",
    "#     plt.ylabel(r\"DEC [$\\degree$]\")\n",
    "#     plt.show()\n",
    "\n",
    "    d = d.value\n",
    "    idx = (d>0)\n",
    "    ra,dec,d = ra[idx],dec[idx],d[idx]\n",
    "\n",
    "#     plt.plot(ra,dec,\".\",markersize=1)\n",
    "#     plt.xlabel(r\"RA [$\\degree$]\")\n",
    "#     plt.ylabel(r\"DEC [$\\degree$]\")\n",
    "#     plt.show()\n",
    "\n",
    "    conv = np.pi / 180\n",
    "    x = d*np.cos(conv*ra)*np.cos(conv*dec)\n",
    "    y = d*np.sin(conv*ra)*np.cos(conv*dec)\n",
    "    z = d*np.sin(conv*dec)\n",
    "    print(len(x))\n",
    "\n",
    "    return (x,y,z)\n",
    "\n",
    "x,y,z = get_xyz(\"ELG_N_clustering.dat.fits\")\n",
    "# once the sample is selected, will have 3 arrays: x,y,z\n",
    "\n",
    "# choosing bins:\n",
    "# bins = 10 ** np.linspace(np.log10(1.0/10), np.log10(20), 20)\n",
    "bins = np.linspace(1.0/10, 20, 30) # Mpc\n",
    "bin_centers = 0.5 * (bins[1:] + bins[:-1])\n",
    "\n",
    "t_start = timeit.default_timer() # starting timer\n",
    "\n",
    "# calculating separation between all objects:\n",
    "n = len(x) # number of objects\n",
    "\n",
    "# DD:\n",
    "sep = np.zeros(int(n*(n-1)/2)) - 1\n",
    "previous = 0\n",
    "for i in range(n):\n",
    "    dist = np.sqrt( (x[i]-x[i+1:n])**2 + (y[i]-y[i+1:n])**2 + (z[i]-z[i+1:n])**2)\n",
    "    dist = dist[dist<20]\n",
    "    sep[previous:previous+len(dist)] = dist.copy()\n",
    "    previous += len(dist)\n",
    "print(\"Done with DD seps\")\n",
    "\n",
    "sep= sep[sep != -1]\n",
    "dd = np.zeros(len(bins)-1)\n",
    "for i in range(len(bins)-1):\n",
    "    left = bins[i]\n",
    "    right = bins[i+1]\n",
    "    dd[i] = np.sum((sep>left) & (sep<right))\n",
    "\n",
    "DD = dd / (n*(n-1)/2) # normalize DD\n",
    "\n",
    "# averaging dr and rr over multiple random datasets (by adding and then dividing after loop), via Zheng's advice:\n",
    "\n",
    "DR,RR = np.zeros_like(DD), np.zeros_like(DD)\n",
    "num_rsamples = 5\n",
    "for num in range(5,10):\n",
    "    randx,randy,randz = get_xyz(\"ELG_N_\" + str(num) + \"_clustering.ran.fits\")\n",
    "    randn = len(randx)\n",
    "\n",
    "    # DR:\n",
    "    sep = np.zeros(int(n*randn)) - 1\n",
    "    previous = 0\n",
    "    for i in range(n):\n",
    "        dist = np.sqrt( (x[i]-randx)**2 + (y[i]-randy)**2 + (z[i]-randz)**2)\n",
    "        dist = dist[dist<20]\n",
    "        sep[previous:previous+len(dist)] = dist.copy()\n",
    "        previous += len(dist)\n",
    "    print(\"Done with DR seps\")\n",
    "\n",
    "    sep= sep[sep != -1]\n",
    "    dr = np.zeros(len(bins)-1)\n",
    "    for i in range(len(bins)-1):\n",
    "        left = bins[i]\n",
    "        right = bins[i+1]\n",
    "        dr[i] = np.sum((sep>left) & (sep<right))\n",
    "        \n",
    "    DR += (dr / randn / n) # normalize DR\n",
    "\n",
    "\n",
    "    # RR:\n",
    "    sep = np.zeros(int(randn*(randn-1)/2)) - 1\n",
    "    previous = 0\n",
    "    for i in range(randn):\n",
    "        dist = np.sqrt( (randx[i]-randx[i+1:randn])**2 + (randy[i]-randy[i+1:randn])**2 + (randz[i]-randz[i+1:randn])**2)\n",
    "        dist = dist[dist<20]\n",
    "        sep[previous:previous+len(dist)] = dist.copy()\n",
    "        previous += len(dist)\n",
    "    print(\"Done with RR seps\")\n",
    "\n",
    "    sep= sep[sep != -1]\n",
    "    rr = np.zeros(len(bins)-1)\n",
    "    for i in range(len(bins)-1):\n",
    "        left = bins[i]\n",
    "        right = bins[i+1]\n",
    "        rr[i] = np.sum((sep>left) & (sep<right))\n",
    "        \n",
    "    RR += (rr / (randn*(randn-1)/2)) # normalize RR\n",
    "\n",
    "DR = DR / num_rsamples\n",
    "RR = RR / num_rsamples\n",
    "\n",
    "t_stop = timeit.default_timer() # stopping the timer\n",
    "print(\"Seconds to calculate separations: \", t_stop-t_start)\n",
    "\n",
    "# calculate Landy-Szalay estimator for 2pcf:\n",
    "xi = (DD - 2*DR + RR) / RR\n",
    "print(xi)"
   ]
  },
  {
   "cell_type": "code",
   "execution_count": 3,
   "id": "b61670da",
   "metadata": {},
   "outputs": [
    {
     "data": {
      "image/png": "[encoded data removed]",
      "text/plain": [
       "<Figure size 432x288 with 1 Axes>"
      ]
     },
     "metadata": {
      "needs_background": "light"
     },
     "output_type": "display_data"
    }
   ],
   "source": [
    "# plot results:\n",
    "# plt.plot(bin_centers, bin_centers**2*xi, \".\")\n",
    "plt.plot(bin_centers, xi, \".\")\n",
    "# plt.xscale(\"log\") # log scale\n",
    "# plt.yscale(\"log\")\n",
    "# plt.ylim(0,1)\n",
    "plt.xlabel(r\"$r$ [Mpc]\", fontsize=15)\n",
    "plt.ylabel(r\"$\\xi(r)$\", fontsize=15)\n",
    "plt.title(\"DESI ELG Subsample\")\n",
    "plt.show()"
   ]
  },
  {
   "cell_type": "markdown",
   "id": "76c598e2",
   "metadata": {},
   "source": [
    "To save a text file"
   ]
  },
  {
   "cell_type": "code",
   "execution_count": 11,
   "id": "9c9a5901",
   "metadata": {},
   "outputs": [
    {
     "data": {
      "text/plain": [
       "<function TextIOWrapper.close()>"
      ]
     },
     "execution_count": 11,
     "metadata": {},
     "output_type": "execute_result"
    }
   ],
   "source": [
    "with open(\"corrs_ELG.txt\", \"w\") as f:\n",
    "    f.write(\"#number of galaxies: \"+str(len(x))+\"\\n\")\n",
    "    for a in bin_centers:\n",
    "        f.write(str(a)+\" \")\n",
    "    f.write(\"\\n\")\n",
    "    for a in xi:\n",
    "        f.write(str(a)+\" \")\n",
    "f.close"
   ]
  }
 ],
 "metadata": {
  "kernelspec": {
   "display_name": "Python 3 (ipykernel)",
   "language": "python",
   "name": "python3"
  },
  "language_info": {
   "codemirror_mode": {
    "name": "ipython",
    "version": 3
   },
   "file_extension": ".py",
   "mimetype": "text/x-python",
   "name": "python",
   "nbconvert_exporter": "python",
   "pygments_lexer": "ipython3",
   "version": "3.8.12"
  }
 },
 "nbformat": 4,
 "nbformat_minor": 5
}
